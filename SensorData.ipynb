{
 "cells": [
  {
   "cell_type": "code",
   "execution_count": 54,
   "id": "4a8bc6eb",
   "metadata": {},
   "outputs": [],
   "source": [
    "import pandas as pd\n",
    "import os\n",
    "import numpy as np\n",
    "from scipy.stats import gaussian_kde\n",
    "from encoder.encoder import Encoder"
   ]
  },
  {
   "cell_type": "code",
   "execution_count": null,
   "id": "e2208928",
   "metadata": {},
   "outputs": [],
   "source": []
  },
  {
   "cell_type": "markdown",
   "id": "51d6fc5b",
   "metadata": {},
   "source": [
    "## Loading Data"
   ]
  },
  {
   "cell_type": "code",
   "execution_count": 55,
   "id": "c65cbf4d",
   "metadata": {},
   "outputs": [],
   "source": [
    "encoder = Encoder()\n",
    "dataframes = []\n",
    "directory = './data/sensor_data'"
   ]
  },
  {
   "cell_type": "code",
   "execution_count": 57,
   "id": "8f0b0fc8",
   "metadata": {},
   "outputs": [],
   "source": [
    "for filename in os.listdir(directory):\n",
    "    if filename.endswith(\".csv\"):\n",
    "        file_path = os.path.join(directory, filename)\n",
    "        df = pd.read_csv(file_path)\n",
    "        dataframes.append(df)\n",
    "\n",
    "data = pd.concat(dataframes, ignore_index=True)\n",
    "\n",
    "data['Timestamp'] = pd.to_datetime(data['Timestamp'])\n",
    "data.set_index('Timestamp', inplace=True)\n",
    "\n",
    "kde = gaussian_kde(data[data.columns[0]], bw_method=.1)\n",
    "x = np.arange(float(data.min()), float(data.max()) + 1)\n",
    "pdf = kde(x)\n",
    "\n",
    "pdf_data = pd.DataFrame({'x': x, 'pdf': pdf})\n",
    "pdf_dict = pdf_data.set_index('x')['pdf'].to_dict()"
   ]
  },
  {
   "cell_type": "code",
   "execution_count": 58,
   "id": "15c31ea5",
   "metadata": {},
   "outputs": [],
   "source": []
  },
  {
   "cell_type": "code",
   "execution_count": 59,
   "id": "9a2db3c6",
   "metadata": {},
   "outputs": [],
   "source": [
    "def compress(data, code):\n",
    "    return data.map(code)\n",
    "\n",
    "def decompress(data, code):\n",
    "    inverted_code = {v: k for k, v in self.code.items()}\n",
    "    return data.astype(str).map(inverted_code).astype(int)\n"
   ]
  },
  {
   "cell_type": "markdown",
   "id": "51cfc2a7",
   "metadata": {},
   "source": [
    "## Test on new data"
   ]
  },
  {
   "cell_type": "code",
   "execution_count": 60,
   "id": "cff8132f",
   "metadata": {},
   "outputs": [],
   "source": [
    "huffman_code = encoder.get_huffman_code(pdf_dict)\n",
    "shannon_code = encoder.get_shannon_code(pdf_dict)\n",
    "\n",
    "huffman_compressed_series = compress(series, huffman_code)\n",
    "shannon_compressed_series = compress(series, shannon_code)"
   ]
  },
  {
   "cell_type": "code",
   "execution_count": 61,
   "id": "d5e7e371",
   "metadata": {},
   "outputs": [
    {
     "data": {
      "text/plain": [
       "8.0"
      ]
     },
     "execution_count": 61,
     "metadata": {},
     "output_type": "execute_result"
    }
   ],
   "source": [
    "# the number of bits used for storage before compression\n",
    "np.ceil(np.log2(len(test_series.unique())))"
   ]
  },
  {
   "cell_type": "code",
   "execution_count": 62,
   "id": "b13680cd",
   "metadata": {},
   "outputs": [
    {
     "data": {
      "text/plain": [
       "5.432951388888889"
      ]
     },
     "execution_count": 62,
     "metadata": {},
     "output_type": "execute_result"
    }
   ],
   "source": [
    "huffman_compressed_series.map(lambda x : len(x)).mean()"
   ]
  },
  {
   "cell_type": "code",
   "execution_count": 63,
   "id": "1fefb911",
   "metadata": {},
   "outputs": [
    {
     "data": {
      "text/plain": [
       "5.975590277777778"
      ]
     },
     "execution_count": 63,
     "metadata": {},
     "output_type": "execute_result"
    }
   ],
   "source": [
    "shannon_compressed_series.map(lambda x : len(x)).mean()"
   ]
  }
 ],
 "metadata": {
  "kernelspec": {
   "display_name": "Python 3 (ipykernel)",
   "language": "python",
   "name": "python3"
  },
  "language_info": {
   "codemirror_mode": {
    "name": "ipython",
    "version": 3
   },
   "file_extension": ".py",
   "mimetype": "text/x-python",
   "name": "python",
   "nbconvert_exporter": "python",
   "pygments_lexer": "ipython3",
   "version": "3.9.12"
  }
 },
 "nbformat": 4,
 "nbformat_minor": 5
}
